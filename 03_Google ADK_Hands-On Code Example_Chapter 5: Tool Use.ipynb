{
 "cells": [
  {
   "cell_type": "markdown",
   "id": "7364143e",
   "metadata": {},
   "source": [
    "# Chapter 5: Tool Use"
   ]
  },
  {
   "cell_type": "markdown",
   "id": "4bcebe1b",
   "metadata": {},
   "source": [
    "## Hands-On Code Example (CrewAI)"
   ]
  },
  {
   "cell_type": "markdown",
   "id": "5a428add",
   "metadata": {},
   "source": [
    "> Adapted and modified from https://docs.google.com/document/d/1ux_n8n3T4bYndOjs1DKW5ccpC802KISdy2IWnlvYbas/edit?tab=t.0\n",
    "> \n",
    "> Fr  3 Okt 2025 16:47:16 BST"
   ]
  },
  {
   "cell_type": "markdown",
   "id": "b69354dd",
   "metadata": {},
   "source": [
    "The Google Agent Developer Kit (ADK) includes a library of natively integrated tools that can be directly incorporated into an agent's capabilities. "
   ]
  },
  {
   "cell_type": "markdown",
   "id": "c81707cf",
   "metadata": {},
   "source": [
    "### Google search"
   ]
  },
  {
   "cell_type": "markdown",
   "id": "f0bba722",
   "metadata": {},
   "source": [
    "**Google search**: A primary example of such a component is the Google Search tool. This tool serves as a direct interface to the Google Search engine, equipping the agent with the functionality to perform web searches and retrieve external information."
   ]
  },
  {
   "cell_type": "code",
   "execution_count": 2,
   "id": "c308e948",
   "metadata": {},
   "outputs": [],
   "source": [
    "from google.adk.agents import Agent\n",
    "from google.adk.runners import Runner\n",
    "from google.adk.sessions import InMemorySessionService\n",
    "from google.adk.tools import google_search\n",
    "from google.genai import types\n",
    "import nest_asyncio\n",
    "import asyncio"
   ]
  },
  {
   "cell_type": "code",
   "execution_count": 3,
   "id": "184fcb79",
   "metadata": {},
   "outputs": [],
   "source": [
    "# Define variables required for Session setup and Agent execution\n",
    "APP_NAME=\"Google Search_agent\"\n",
    "USER_ID=\"user1234\"\n",
    "SESSION_ID=\"1234\""
   ]
  },
  {
   "cell_type": "code",
   "execution_count": 5,
   "id": "d1db97cf",
   "metadata": {},
   "outputs": [],
   "source": [
    "# Define Agent with access to search tool\n",
    "root_agent = Agent(\n",
    "  name=\"basic_search_agent\",\n",
    "  model=\"gemini-2.0-flash-exp\",\n",
    "  description=\"Agent to answer questions using Google Search.\",\n",
    "  instruction=\"I can answer your questions by searching the internet. Just ask me anything!\",\n",
    "  tools=[google_search] # Google Search is a pre-built tool to perform Google searches.\n",
    ")"
   ]
  },
  {
   "cell_type": "code",
   "execution_count": 6,
   "id": "2afb6428",
   "metadata": {},
   "outputs": [],
   "source": [
    "# Agent Interaction\n",
    "async def call_agent(query):\n",
    "  \"\"\"\n",
    "  Helper function to call the agent with a query.\n",
    "  \"\"\"\n",
    "\n",
    "  # Session and Runner\n",
    "  session_service = InMemorySessionService()\n",
    "  session = await session_service.create_session(app_name=APP_NAME, user_id=USER_ID, session_id=SESSION_ID)\n",
    "  runner = Runner(agent=root_agent, app_name=APP_NAME, session_service=session_service)\n",
    "\n",
    "  content = types.Content(role='user', parts=[types.Part(text=query)])\n",
    "  events = runner.run(user_id=USER_ID, session_id=SESSION_ID, new_message=content)\n",
    "\n",
    "  for event in events:\n",
    "      if event.is_final_response():\n",
    "          final_response = event.content.parts[0].text\n",
    "          print(\"Agent Response: \", final_response)"
   ]
  },
  {
   "cell_type": "code",
   "execution_count": 7,
   "id": "eb147faf",
   "metadata": {},
   "outputs": [
    {
     "name": "stdout",
     "output_type": "stream",
     "text": [
      "Agent Response:  Here's a summary of recent AI news:\n",
      "\n",
      "**AI and Business:**\n",
      "\n",
      "*   **SoftBank** predicts Artificial Superintelligence (ASI) will arrive within 10 years, going beyond Artificial General Intelligence (AGI).\n",
      "*   **Malaysia** has launched its first AI-powered bank, Ryt Bank.\n",
      "*   **Reply** is offering pre-built AI apps to accelerate AI adoption in finance.\n",
      "*   **Walmart's CEO** anticipates AI will change \"literally every job\" worldwide.\n",
      "*   An airline is cutting jobs and replacing roles with AI.\n",
      "\n",
      "**AI and Technology**\n",
      "\n",
      "*   **Google:** Veo 3 AI video creation tools are now widely available.\n",
      "*   **IBM** has launched Granite 4.0 Hybrid AI Models with reduced memory and hardware costs.\n",
      "*   **Google** acquired Atlantic Quantum, an MIT-founded company; its modular chip stack will be integrated into Google's Quantum AI hardware development.\n",
      "*   **Huawei** is developing new AI infrastructure to compete globally, given restrictions on Nvidia in China.\n",
      "*   **Nvidia** is reportedly investing up to $100 billion in OpenAI, including supplying datacenter chips.\n",
      "*   **Alibaba's** new Qwen model will enhance AI transcription tools.\n",
      "\n",
      "**AI and Ethics/Concerns:**\n",
      "\n",
      "*   MIT research indicates AI causes a reduction in users' brain activity.\n",
      "*   A CBS New York report highlights the increasing sophistication and potential misuse of deepfake AI videos in misinformation, scams, and revenge.\n",
      "*   Concerns are rising about the use of AI in healthcare, with 70% of doctors surveyed expressing unease about using AI in diagnostics due to data bias and opacity.\n",
      "*   The AI \"actor\" Tilly Norwood is generating controversy, with concerns about blandness in film culture and potential exploitation of actors.\n",
      "*   There are discussions around preparing for AI personhood.\n",
      "*   Parents are filing lawsuits alleging ChatGPT helped their teenage son plan suicide.\n",
      "\n",
      "**AI and Regulation:**\n",
      "\n",
      "*   **Google** suggests the EU's AI adoption is lagging behind China due to regulatory hurdles.\n",
      "*   Experts are calling for regulation and AI watermarking to combat deepfake videos.\n",
      "\n",
      "**AI Applications**\n",
      "\n",
      "*   Schools are using AI gun detection for safety.\n",
      "*   AI is being used to rewrite the rules of the insurance industry.\n",
      "*   AI is being applied to algorithmic agriculture.\n",
      "*   AI is being used in a test run for lawnmowers on the National Mall.\n",
      "*   AI is being used to detect dangerous heart conditions via AI stethoscopes.\n",
      "*   AI drones are being used to find missing persons.\n",
      "\n",
      "**Other News**\n",
      "\n",
      "*   The AI in healthcare market is projected to reach approximately $187 billion by 2030.\n",
      "*   A Yale study finds that the US jobs market has not yet been seriously disrupted by AI.\n"
     ]
    }
   ],
   "source": [
    "nest_asyncio.apply()\n",
    "\n",
    "asyncio.run(call_agent(\"what's the latest ai news?\"))"
   ]
  },
  {
   "cell_type": "markdown",
   "id": "41014dcc",
   "metadata": {},
   "source": [
    "This code demonstrates how to create and use a basic agent powered by the Google ADK for Python. The agent is designed to answer questions by utilizing Google Search as a tool. First, necessary libraries from IPython, google.adk, and google.genai are imported. Constants for the application name, user ID, and session ID are defined. An Agent instance named \"basic_search_agent\" is created with a description and instructions indicating its purpose. It's configured to use the Google Search tool, which is a pre-built tool provided by the ADK. An InMemorySessionService (see Chapter 8) is initialized to manage sessions for the agent. A new session is created for the specified application, user, and session IDs. A Runner is instantiated, linking the created agent with the session service. This runner is responsible for executing the agent's interactions within a session. A helper function call_agent is defined to simplify the process of sending a query to the agent and processing the response. Inside call_agent, the user's query is formatted as a types.Content object with the role 'user'. The runner.run method is called with the user ID, session ID, and the new message content. The runner.run method returns a list of events representing the agent's actions and responses. The code iterates through these events to find the final response. If an event is identified as the final response, the text content of that response is extracted. The extracted agent response is then printed to the console. Finally, the call_agent function is called with the query \"what's the latest ai news?\" to demonstrate the agent in action."
   ]
  },
  {
   "cell_type": "markdown",
   "id": "9b65759f",
   "metadata": {},
   "source": [
    "### Code execution"
   ]
  },
  {
   "cell_type": "markdown",
   "id": "ce3a0e2c",
   "metadata": {},
   "source": [
    "**Code execution**: The Google ADK features integrated components for specialized tasks, including an environment for dynamic code execution. The built_in_code_execution tool provides an agent with a sandboxed Python interpreter. This allows the model to write and run code to perform computational tasks, manipulate data structures, and execute procedural scripts. Such functionality is critical for addressing problems that require deterministic logic and precise calculations, which are outside the scope of probabilistic language generation alone."
   ]
  },
  {
   "cell_type": "code",
   "execution_count": 8,
   "id": "108699bd",
   "metadata": {},
   "outputs": [],
   "source": [
    "import os, getpass\n",
    "import asyncio\n",
    "import nest_asyncio\n",
    "from typing import List\n",
    "from dotenv import load_dotenv\n",
    "import logging\n",
    "from google.adk.agents import Agent as ADKAgent, LlmAgent\n",
    "from google.adk.runners import Runner\n",
    "from google.adk.sessions import InMemorySessionService\n",
    "from google.adk.tools import google_search\n",
    "from google.adk.code_executors import BuiltInCodeExecutor\n",
    "from google.genai import types"
   ]
  },
  {
   "cell_type": "code",
   "execution_count": null,
   "id": "56507283",
   "metadata": {},
   "outputs": [],
   "source": [
    "# Define variables required for Session setup and Agent execution\n",
    "APP_NAME=\"calculator\"\n",
    "USER_ID=\"user1234\"\n",
    "SESSION_ID=\"session_code_exec_async\""
   ]
  },
  {
   "cell_type": "code",
   "execution_count": null,
   "id": "76429fe1",
   "metadata": {},
   "outputs": [],
   "source": [
    "# Agent Definition\n",
    "code_agent = LlmAgent(\n",
    "  name=\"calculator_agent\",\n",
    "  model=\"gemini-2.0-flash\",\n",
    "  code_executor=BuiltInCodeExecutor(),\n",
    "  instruction=\"\"\"You are a calculator agent.\n",
    "  When given a mathematical expression, write and execute Python code to calculate the result.\n",
    "  Return only the final numerical result as plain text, without markdown or code blocks.\n",
    "  \"\"\",\n",
    "  description=\"Executes Python code to perform calculations.\",\n",
    ")"
   ]
  },
  {
   "cell_type": "code",
   "execution_count": null,
   "id": "a48dd1c2",
   "metadata": {},
   "outputs": [],
   "source": [
    "# Agent Interaction (Async)\n",
    "async def call_agent_async(query):\n",
    "\n",
    "  # Session and Runner\n",
    "  session_service = InMemorySessionService()\n",
    "  session = await session_service.create_session(app_name=APP_NAME, user_id=USER_ID, session_id=SESSION_ID)\n",
    "  runner = Runner(agent=code_agent, app_name=APP_NAME, session_service=session_service)\n",
    "\n",
    "  content = types.Content(role='user', parts=[types.Part(text=query)])\n",
    "  print(f\"\\n--- Running Query: {query} ---\")\n",
    "  final_response_text = \"No final text response captured.\"\n",
    "  try:\n",
    "      # Use run_async\n",
    "      async for event in runner.run_async(user_id=USER_ID, session_id=SESSION_ID, new_message=content):\n",
    "          print(f\"Event ID: {event.id}, Author: {event.author}\")\n",
    "\n",
    "          # --- Check for specific parts FIRST ---\n",
    "          # has_specific_part = False\n",
    "          if event.content and event.content.parts and event.is_final_response():\n",
    "              for part in event.content.parts: # Iterate through all parts\n",
    "                  if part.executable_code:\n",
    "                      # Access the actual code string via .code\n",
    "                      print(f\"  Debug: Agent generated code:\\n```python\\n{part.executable_code.code}\\n```\")\n",
    "                      has_specific_part = True\n",
    "                  elif part.code_execution_result:\n",
    "                      # Access outcome and output correctly\n",
    "                      print(f\"  Debug: Code Execution Result: {part.code_execution_result.outcome} - Output:\\n{part.code_execution_result.output}\")\n",
    "                      has_specific_part = True\n",
    "                  # Also print any text parts found in any event for debugging\n",
    "                  elif part.text and not part.text.isspace():\n",
    "                      print(f\"  Text: '{part.text.strip()}'\")\n",
    "                      # Do not set has_specific_part=True here, as we want the final response logic below\n",
    "\n",
    "              # --- Check for final response AFTER specific parts ---\n",
    "              text_parts = [part.text for part in event.content.parts if part.text]\n",
    "              final_result = \"\".join(text_parts)\n",
    "              print(f\"==> Final Agent Response: {final_result}\")\n",
    "\n",
    "  except Exception as e:\n",
    "      print(f\"ERROR during agent run: {e}\")\n",
    "  print(\"-\" * 30)"
   ]
  },
  {
   "cell_type": "markdown",
   "id": "650da92d",
   "metadata": {},
   "source": [
    "**Notes**\n",
    "- `final_response_text` and `has_specific_part` are never used\n",
    "- the `event.content.parts` could look something like this: \n",
    "\n",
    "    ```python\n",
    "    Part(executable_code=...),\n",
    "    Part(code_execution_result=...),\n",
    "    Part(text=\"36\") \n",
    "    ```"
   ]
  },
  {
   "cell_type": "code",
   "execution_count": null,
   "id": "c59fee6f",
   "metadata": {},
   "outputs": [],
   "source": [
    "# Main async function to run the examples\n",
    "async def main():\n",
    "  await call_agent_async(\"Calculate the value of (5 + 7) * 3\")\n",
    "  await call_agent_async(\"What is 10 factorial?\")"
   ]
  },
  {
   "cell_type": "code",
   "execution_count": 13,
   "id": "a3e770ce",
   "metadata": {},
   "outputs": [
    {
     "name": "stdout",
     "output_type": "stream",
     "text": [
      "\n",
      "--- Running Query: Calculate the value of (5 + 7) * 3 ---\n"
     ]
    },
    {
     "name": "stderr",
     "output_type": "stream",
     "text": [
      "Warning: there are non-text parts in the response: ['executable_code', 'code_execution_result'], returning concatenated text result from text parts. Check the full candidates.content.parts accessor to get the full model response.\n",
      "Unclosed connector\n",
      "connections: ['deque([(<aiohttp.client_proto.ResponseHandler object at 0x132b63e90>, 88069.827043541)])']\n",
      "connector: <aiohttp.connector.TCPConnector object at 0x132b86710>\n"
     ]
    },
    {
     "name": "stdout",
     "output_type": "stream",
     "text": [
      "Event ID: 6dc6b607-86a8-4676-abc7-89d0e99aa8bb, Author: calculator_agent\n",
      "  Debug: Agent generated code:\n",
      "```python\n",
      "print((5 + 7) * 3)\n",
      "\n",
      "```\n",
      "  Debug: Code Execution Result: Outcome.OUTCOME_OK - Output:\n",
      "36\n",
      "\n",
      "  Text: '36'\n",
      "==> Final Agent Response: 36\n",
      "\n",
      "------------------------------\n",
      "\n",
      "--- Running Query: What is 10 factorial? ---\n"
     ]
    },
    {
     "name": "stderr",
     "output_type": "stream",
     "text": [
      "Warning: there are non-text parts in the response: ['executable_code', 'code_execution_result'], returning concatenated text result from text parts. Check the full candidates.content.parts accessor to get the full model response.\n"
     ]
    },
    {
     "name": "stdout",
     "output_type": "stream",
     "text": [
      "Event ID: 17151c2e-82bb-4669-94a1-54c04a51ee01, Author: calculator_agent\n",
      "  Debug: Agent generated code:\n",
      "```python\n",
      "import math\n",
      "print(math.factorial(10))\n",
      "\n",
      "```\n",
      "  Debug: Code Execution Result: Outcome.OUTCOME_OK - Output:\n",
      "3628800\n",
      "\n",
      "  Text: '3628800'\n",
      "==> Final Agent Response: 3628800\n",
      "\n",
      "------------------------------\n"
     ]
    }
   ],
   "source": [
    "# Execute the main async function\n",
    "try:\n",
    "  nest_asyncio.apply()\n",
    "  asyncio.run(main())\n",
    "except RuntimeError as e:\n",
    "  # Handle specific error when running asyncio.run in an already running loop (like Jupyter/Colab)\n",
    "  if \"cannot be called from a running event loop\" in str(e):\n",
    "      print(\"\\nRunning in an existing event loop (like Colab/Jupyter).\")\n",
    "      print(\"Please run `await main()` in a notebook cell instead.\")\n",
    "      # If in an interactive environment like a notebook, you might need to run:\n",
    "      # await main()\n",
    "  else:\n",
    "      raise e # Re-raise other runtime errors"
   ]
  },
  {
   "cell_type": "markdown",
   "id": "02ff3947",
   "metadata": {},
   "source": [
    "This script uses Google's Agent Development Kit (ADK) to create an agent that solves mathematical problems by writing and executing Python code. It defines an LlmAgent specifically instructed to act as a calculator, equipping it with the built_in_code_execution tool. The primary logic resides in the call_agent_async function, which sends a user's query to the agent's runner and processes the resulting events. Inside this function, an asynchronous loop iterates through events, printing the generated Python code and its execution result for debugging. The code carefully distinguishes between these intermediate steps and the final event containing the numerical answer. Finally, a main function runs the agent with two different mathematical expressions to demonstrate its ability to perform calculations."
   ]
  },
  {
   "cell_type": "markdown",
   "id": "0b3a4937",
   "metadata": {},
   "source": [
    "### Enterprise search"
   ]
  },
  {
   "cell_type": "markdown",
   "id": "016b3f70",
   "metadata": {},
   "source": [
    "**Enterprise search**: This code defines a Google ADK application using the google.adk library in Python. It specifically uses a VSearchAgent, which is designed to answer questions by searching a specified Vertex AI Search datastore. The code initializes a VSearchAgent named \"q2_strategy_vsearch_agent\", providing a description, the model to use (\"gemini-2.0-flash-exp\"), and the ID of the Vertex AI Search datastore. The DATASTORE_ID is expected to be set as an environment variable. It then sets up a Runner for the agent, using an InMemorySessionService to manage conversation history. An asynchronous function call_vsearch_agent_async is defined to interact with the agent. This function takes a query, constructs a message content object, and calls the runner's run_async method to send the query to the agent. The function then streams the agent's response back to the console as it arrives. It also prints information about the final response, including any source attributions from the datastore. Error handling is included to catch exceptions during the agent's execution, providing informative messages about potential issues like an incorrect datastore ID or missing permissions. Another asynchronous function run_vsearch_example is provided to demonstrate how to call the agent with example queries. The main execution block checks if the DATASTORE_ID is set and then runs the example using asyncio.run. It includes a check to handle cases where the code is run in an environment that already has a running event loop, like a Jupyter notebook. \n"
   ]
  },
  {
   "cell_type": "code",
   "execution_count": 15,
   "id": "deb3343c",
   "metadata": {},
   "outputs": [],
   "source": [
    "import asyncio\n",
    "from google.genai import types\n",
    "from google.adk import agents\n",
    "from google.adk.runners import Runner\n",
    "from google.adk.sessions import InMemorySessionService\n",
    "import os"
   ]
  },
  {
   "cell_type": "code",
   "execution_count": 18,
   "id": "87cac239",
   "metadata": {},
   "outputs": [],
   "source": [
    "# --- Configuration ---\n",
    "# Ensure you have set your GOOGLE_API_KEY and DATASTORE_ID environment variables\n",
    "# For example:\n",
    "# os.environ[\"GOOGLE_API_KEY\"] = \"YOUR_API_KEY\"\n",
    "# os.environ[\"DATASTORE_ID\"] = \"YOUR_DATASTORE_ID\"\n",
    "\n",
    "DATASTORE_ID = os.environ.get(\"DATASTORE_ID\")\n",
    "\n",
    "# --- Application Constants ---\n",
    "APP_NAME = \"vsearch_app\"\n",
    "USER_ID = \"user_123\"  # Example User ID\n",
    "SESSION_ID = \"session_456\" # Example Session ID"
   ]
  },
  {
   "cell_type": "code",
   "execution_count": 19,
   "id": "3c972ad4",
   "metadata": {},
   "outputs": [
    {
     "ename": "AttributeError",
     "evalue": "module 'google.adk.agents' has no attribute 'VSearchAgent'",
     "output_type": "error",
     "traceback": [
      "\u001b[31m---------------------------------------------------------------------------\u001b[39m",
      "\u001b[31mAttributeError\u001b[39m                            Traceback (most recent call last)",
      "\u001b[36mCell\u001b[39m\u001b[36m \u001b[39m\u001b[32mIn[19]\u001b[39m\u001b[32m, line 2\u001b[39m\n\u001b[32m      1\u001b[39m \u001b[38;5;66;03m# --- Agent Definition (Updated with the newer model from the guide) ---\u001b[39;00m\n\u001b[32m----> \u001b[39m\u001b[32m2\u001b[39m vsearch_agent = \u001b[43magents\u001b[49m\u001b[43m.\u001b[49m\u001b[43mVSearchAgent\u001b[49m(\n\u001b[32m      3\u001b[39m    name=\u001b[33m\"\u001b[39m\u001b[33mq2_strategy_vsearch_agent\u001b[39m\u001b[33m\"\u001b[39m,\n\u001b[32m      4\u001b[39m    description=\u001b[33m\"\u001b[39m\u001b[33mAnswers questions about Q2 strategy documents using Vertex AI Search.\u001b[39m\u001b[33m\"\u001b[39m,\n\u001b[32m      5\u001b[39m    model=\u001b[33m\"\u001b[39m\u001b[33mgemini-2.0-flash-exp\u001b[39m\u001b[33m\"\u001b[39m, \u001b[38;5;66;03m# Updated model based on the guide's examples\u001b[39;00m\n\u001b[32m      6\u001b[39m    datastore_id=DATASTORE_ID,\n\u001b[32m      7\u001b[39m    model_parameters={\u001b[33m\"\u001b[39m\u001b[33mtemperature\u001b[39m\u001b[33m\"\u001b[39m: \u001b[32m0.0\u001b[39m}\n\u001b[32m      8\u001b[39m )\n",
      "\u001b[31mAttributeError\u001b[39m: module 'google.adk.agents' has no attribute 'VSearchAgent'"
     ]
    }
   ],
   "source": [
    "# --- Agent Definition (Updated with the newer model from the guide) ---\n",
    "vsearch_agent = agents.VSearchAgent(\n",
    "   name=\"q2_strategy_vsearch_agent\",\n",
    "   description=\"Answers questions about Q2 strategy documents using Vertex AI Search.\",\n",
    "   model=\"gemini-2.0-flash-exp\", # Updated model based on the guide's examples\n",
    "   datastore_id=DATASTORE_ID,\n",
    "   model_parameters={\"temperature\": 0.0}\n",
    ")"
   ]
  },
  {
   "cell_type": "markdown",
   "id": "841dc7c5",
   "metadata": {},
   "source": [
    "**Note**\n",
    "This error occurs because the VSearchAgent is part of an enterprise version of Google's ADK (that must be purchased additionally). "
   ]
  },
  {
   "cell_type": "code",
   "execution_count": 20,
   "id": "5f30ebec",
   "metadata": {},
   "outputs": [
    {
     "ename": "NameError",
     "evalue": "name 'vsearch_agent' is not defined",
     "output_type": "error",
     "traceback": [
      "\u001b[31m---------------------------------------------------------------------------\u001b[39m",
      "\u001b[31mNameError\u001b[39m                                 Traceback (most recent call last)",
      "\u001b[36mCell\u001b[39m\u001b[36m \u001b[39m\u001b[32mIn[20]\u001b[39m\u001b[32m, line 3\u001b[39m\n\u001b[32m      1\u001b[39m \u001b[38;5;66;03m# --- Runner and Session Initialization ---\u001b[39;00m\n\u001b[32m      2\u001b[39m runner = Runner(\n\u001b[32m----> \u001b[39m\u001b[32m3\u001b[39m    agent=\u001b[43mvsearch_agent\u001b[49m,\n\u001b[32m      4\u001b[39m    app_name=APP_NAME,\n\u001b[32m      5\u001b[39m    session_service=InMemorySessionService(),\n\u001b[32m      6\u001b[39m )\n",
      "\u001b[31mNameError\u001b[39m: name 'vsearch_agent' is not defined"
     ]
    }
   ],
   "source": [
    "# --- Runner and Session Initialization ---\n",
    "runner = Runner(\n",
    "   agent=vsearch_agent,\n",
    "   app_name=APP_NAME,\n",
    "   session_service=InMemorySessionService(),\n",
    ")"
   ]
  },
  {
   "cell_type": "code",
   "execution_count": 21,
   "id": "a270ed3f",
   "metadata": {},
   "outputs": [],
   "source": [
    "# --- Agent Invocation Logic ---\n",
    "async def call_vsearch_agent_async(query: str):\n",
    "   \"\"\"Initializes a session and streams the agent's response.\"\"\"\n",
    "   print(f\"User: {query}\")\n",
    "   print(\"Agent: \", end=\"\", flush=True)\n",
    "\n",
    "   try:\n",
    "       # Construct the message content correctly\n",
    "       content = types.Content(role='user', parts=[types.Part(text=query)])\n",
    "\n",
    "\n",
    "       # Process events as they arrive from the asynchronous runner\n",
    "       async for event in runner.run_async(\n",
    "           user_id=USER_ID,\n",
    "           session_id=SESSION_ID,\n",
    "           new_message=content\n",
    "       ):\n",
    "           # For token-by-token streaming of the response text\n",
    "           if hasattr(event, 'content_part_delta') and event.content_part_delta:\n",
    "               print(event.content_part_delta.text, end=\"\", flush=True)\n",
    "\n",
    "           # Process the final response and its associated metadata\n",
    "           if event.is_final_response():\n",
    "               print() # Newline after the streaming response\n",
    "               if event.grounding_metadata:\n",
    "                   print(f\"  (Source Attributions: {len(event.grounding_metadata.grounding_attributions)} sources found)\")\n",
    "               else:\n",
    "                   print(\"  (No grounding metadata found)\")\n",
    "               print(\"-\" * 30)\n",
    "\n",
    "   except Exception as e:\n",
    "       print(f\"\\nAn error occurred: {e}\")\n",
    "       print(\"Please ensure your datastore ID is correct and that the service account has the necessary permissions.\")\n",
    "       print(\"-\" * 30)"
   ]
  },
  {
   "cell_type": "markdown",
   "id": "61f2234b",
   "metadata": {},
   "source": [
    "**Notes**\n",
    "\n",
    "This VSearch code uses:\n",
    "- `event.content_part_delta.text` - Streaming tokens\n",
    "- No text assembly with list comprehension\n",
    "\n",
    "The earlier code used:\n",
    "- `[part.text for part in event.content.parts if part.text]` - Complete parts\n",
    "- `\"\".join(text_parts)` - Manual assembly"
   ]
  },
  {
   "cell_type": "code",
   "execution_count": 22,
   "id": "314a2569",
   "metadata": {},
   "outputs": [],
   "source": [
    "# --- Run Example ---\n",
    "async def run_vsearch_example():\n",
    "   # Replace with a question relevant to YOUR datastore content\n",
    "   await call_vsearch_agent_async(\"Summarize the main points about the Q2 strategy document.\")\n",
    "   await call_vsearch_agent_async(\"What safety procedures are mentioned for lab X?\")"
   ]
  },
  {
   "cell_type": "code",
   "execution_count": 23,
   "id": "c5117a3e",
   "metadata": {},
   "outputs": [
    {
     "name": "stdout",
     "output_type": "stream",
     "text": [
      "Error: DATASTORE_ID environment variable is not set.\n"
     ]
    }
   ],
   "source": [
    "# --- Execution ---\n",
    "if __name__ == \"__main__\":\n",
    "   if not DATASTORE_ID:\n",
    "       print(\"Error: DATASTORE_ID environment variable is not set.\")\n",
    "   else:\n",
    "       try:\n",
    "           asyncio.run(run_vsearch_example())\n",
    "       except RuntimeError as e:\n",
    "           # This handles cases where asyncio.run is called in an environment\n",
    "           # that already has a running event loop (like a Jupyter notebook).\n",
    "           if \"cannot be called from a running event loop\" in str(e):\n",
    "               print(\"Skipping execution in a running event loop. Please run this script directly.\")\n",
    "           else:\n",
    "               raise e"
   ]
  },
  {
   "cell_type": "markdown",
   "id": "418121c3",
   "metadata": {},
   "source": [
    "Overall, this code provides a basic framework for building a conversational AI application that leverages Vertex AI Search to answer questions based on information stored in a datastore. It demonstrates how to define an agent, set up a runner, and interact with the agent asynchronously while streaming the response. The focus is on retrieving and synthesizing information from a specific datastore to answer user queries."
   ]
  },
  {
   "cell_type": "markdown",
   "id": "1ef2e179",
   "metadata": {},
   "source": [
    "**Vertex Extensions**: A Vertex AI extension is a structured API wrapper that enables a model to connect with external APIs for real-time data processing and action execution. Extensions offer enterprise-grade security, data privacy, and performance guarantees. They can be used for tasks like generating and running code, querying websites, and analyzing information from private datastores. Google provides prebuilt extensions for common use cases like Code Interpreter and Vertex AI Search, with the option to create custom ones. The primary benefit of extensions includes strong enterprise controls and seamless integration with other Google products. The key difference between extensions and function calling lies in their execution: Vertex AI automatically executes extensions, whereas function calls require manual execution by the user or client.\n"
   ]
  }
 ],
 "metadata": {
  "kernelspec": {
   "display_name": ".venv",
   "language": "python",
   "name": "python3"
  },
  "language_info": {
   "codemirror_mode": {
    "name": "ipython",
    "version": 3
   },
   "file_extension": ".py",
   "mimetype": "text/x-python",
   "name": "python",
   "nbconvert_exporter": "python",
   "pygments_lexer": "ipython3",
   "version": "3.13.5"
  }
 },
 "nbformat": 4,
 "nbformat_minor": 5
}
